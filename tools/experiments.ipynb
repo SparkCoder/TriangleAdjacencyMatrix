{
 "cells": [
  {
   "cell_type": "code",
   "execution_count": 349,
   "id": "56838b77-ae3e-4496-952a-b301e7cbb104",
   "metadata": {},
   "outputs": [],
   "source": [
    "import matplotlib.pyplot as plt\n",
    "import numpy as np\n",
    "\n",
    "from PIL import Image, ImageDraw, ImageFont\n",
    "\n",
    "import os\n",
    "\n",
    "%matplotlib inline"
   ]
  },
  {
   "cell_type": "code",
   "execution_count": 427,
   "id": "fa1c85e3-f624-4f80-a46a-be52ab0e96aa",
   "metadata": {},
   "outputs": [],
   "source": [
    "width = 2048\n",
    "border = 50\n",
    "thickness = 30\n",
    "font = ImageFont.truetype(os.path.join('lib', 'ui', 'fonts', 'Poppins-Bold.ttf'), 80)\n",
    "line_color = '#020202'\n",
    "items = [\n",
    "    'Parking',\n",
    "    'Entry gate',\n",
    "    'lobby & reception',\n",
    "    'Admin. office',\n",
    "    'R&D block',\n",
    "    'Multi-purpose hall',\n",
    "    'Gallery block',\n",
    "    'Library',\n",
    "    'Conference hall',\n",
    "    'Amphitheatre',\n",
    "    'Meeting area'\n",
    "]\n",
    "\n",
    "o_width = width\n",
    "o_height = width"
   ]
  },
  {
   "cell_type": "code",
   "execution_count": 428,
   "id": "ee916c3d-5621-4949-ad6d-0fb0055923f9",
   "metadata": {},
   "outputs": [
    {
     "name": "stdout",
     "output_type": "stream",
     "text": [
      "1948 1948 2048 2048\n"
     ]
    }
   ],
   "source": [
    "n_items = len(items)\n",
    "matrix = np.array([[0] * n_items] * n_items)\n",
    "\n",
    "width = o_width - (border * 2)\n",
    "height = o_height - (border * 2)\n",
    "\n",
    "print(width, height, o_width, o_height)"
   ]
  },
  {
   "cell_type": "code",
   "execution_count": 440,
   "id": "fdea5a2c-11c1-4e94-a794-8910380d0a54",
   "metadata": {},
   "outputs": [
    {
     "data": {
      "image/png": "[encoded data removed]",
      "text/plain": [
       "<Figure size 432x288 with 1 Axes>"
      ]
     },
     "metadata": {
      "needs_background": "light"
     },
     "output_type": "display_data"
    }
   ],
   "source": [
    "gen = Image.new(\"RGBA\", (width, height))\n",
    "img = Image.new(\"RGBA\", (o_width, o_height))\n",
    "canvas = ImageDraw.Draw(gen)\n",
    "\n",
    "label_width = min(10 * font.size, width / 2)\n",
    "\n",
    "cell_size = height / n_items\n",
    "half_cell_size = cell_size / 2\n",
    "half_height = height / 2\n",
    "\n",
    "# Grid\n",
    "for row in range(n_items):\n",
    "    y_start = (cell_size * row)\n",
    "    x_end = half_height - (y_start / 2)\n",
    "    y_end = half_height + (y_start / 2)\n",
    "    canvas.line([\n",
    "        (label_width,  y_start), \n",
    "        (label_width + x_end, y_end)\n",
    "    ], fill=line_color, width=thickness)\n",
    "    canvas.line([\n",
    "        (label_width,  height - y_start), \n",
    "        (label_width + x_end, height - y_end)\n",
    "    ], fill=line_color, width=thickness)\n",
    "    \n",
    "    if row < n_items - 1:\n",
    "        for col in range(n_items - row - 1):\n",
    "            x_pos = (half_cell_size * 0.5) + (y_start / 2)\n",
    "            y_pos = (half_cell_size * 1.5) + (y_start / 2) + (cell_size * col)\n",
    "\n",
    "            canvas.ellipse([(label_width + x_pos, y_pos), (label_width + x_pos + half_cell_size, y_pos + half_cell_size)], fill=(255, 0, 0))\n",
    "\n",
    "# Label lines    \n",
    "for row in range(n_items + 1):\n",
    "    y_start = (cell_size * row) + (thickness * 0.5 if row == 0 else (thickness * (-0.5) if row == n_items else 0))\n",
    "    canvas.line([\n",
    "        (0,  y_start), \n",
    "        (label_width, y_start)\n",
    "    ], fill=line_color, width=thickness)\n",
    "    \n",
    "# Labels\n",
    "for row in range(n_items):\n",
    "    y_start = (cell_size * row)\n",
    "    canvas.text((0, y_start + (font.size / 2)), items[row], font=font, align=\"left\", fill=line_color)\n",
    "\n",
    "gen = gen.resize(gen.size, Image.ANTIALIAS)\n",
    "img.paste(gen, (border, border))\n",
    "img = img.resize(img.size, Image.ANTIALIAS)\n",
    "\n",
    "plt.imshow(np.asarray(img))\n",
    "plt.show()"
   ]
  },
  {
   "cell_type": "markdown",
   "id": "43b177bf-1866-4538-a1cd-c6949f2946f7",
   "metadata": {},
   "source": [
    "## "
   ]
  }
 ],
 "metadata": {
  "kernelspec": {
   "display_name": "Python 3",
   "language": "python",
   "name": "python3"
  },
  "language_info": {
   "codemirror_mode": {
    "name": "ipython",
    "version": 3
   },
   "file_extension": ".py",
   "mimetype": "text/x-python",
   "name": "python",
   "nbconvert_exporter": "python",
   "pygments_lexer": "ipython3",
   "version": "3.8.2"
  }
 },
 "nbformat": 4,
 "nbformat_minor": 5
}
